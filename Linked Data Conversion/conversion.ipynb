{
 "cells": [
  {
   "cell_type": "code",
   "execution_count": 1,
   "id": "99c3274e",
   "metadata": {},
   "outputs": [],
   "source": [
    "import pandas as pd\n",
    "from rdflib import Graph, Namespace, URIRef, Literal, RDF, RDFS, FOAF, OWL, XSD"
   ]
  },
  {
   "cell_type": "code",
   "execution_count": 2,
   "id": "585f21b3",
   "metadata": {},
   "outputs": [],
   "source": [
    "# Initialize RDF Graph\n",
    "g = Graph()\n",
    "\n",
    "# Define Namespaces\n",
    "ns = Namespace(\"http://example.org/ns/\")\n",
    "foaf = FOAF\n",
    "schema = Namespace(\"http://schema.org/\")\n",
    "dcterms = Namespace(\"http://purl.org/dc/terms/\")\n",
    "prov = Namespace(\"http://www.w3.org/ns/prov#\")\n",
    "wd = Namespace(\"http://www.wikidata.org/entity/\")\n",
    "intavia = Namespace(\"https://bionet.intavia.eu/person/\")\n",
    "colonial = Namespace(\"https://data.colonialcollections.nl/entity/\")"
   ]
  },
  {
   "cell_type": "code",
   "execution_count": 3,
   "id": "26c1da66",
   "metadata": {},
   "outputs": [],
   "source": [
    "# Bind namespaces\n",
    "g.bind(\"ns\", ns)\n",
    "g.bind(\"foaf\", foaf)\n",
    "g.bind(\"schema\", schema)\n",
    "g.bind(\"dcterms\", dcterms)\n",
    "g.bind(\"prov\", prov)\n",
    "g.bind(\"wd\", wd)\n",
    "g.bind(\"intavia\", intavia)\n",
    "g.bind(\"colonial\", colonial)"
   ]
  },
  {
   "cell_type": "code",
   "execution_count": 5,
   "id": "ccc15faf",
   "metadata": {},
   "outputs": [],
   "source": [
    "# Load CSV Data\n",
    "bio_df = pd.read_csv(\"/Volumes/Extreme SSD/Python_Projects/NIAA Project/FINAL/bio_FINAL.csv\")\n",
    "spouses_df = pd.read_csv(\"/Volumes/Extreme SSD/Python_Projects/NIAA Project/FINAL/spouses_FINAL.csv\")\n",
    "events_df = pd.read_csv(\"/Volumes/Extreme SSD/Python_Projects/NIAA Project/FINAL/event_FINAL.csv\")\n"
   ]
  },
  {
   "cell_type": "code",
   "execution_count": 6,
   "id": "fbc07599",
   "metadata": {},
   "outputs": [],
   "source": [
    "# Load External ID Mapping (replace with your actual data)\n",
    "external_mapping = {\n",
    "    0: {\"wikidata\": \"Q12345\", \"intavia\": \"vb-001\", \"colonial\": \"wm-001\"},\n",
    "    1: {\"wikidata\": \"Q67890\", \"intavia\": \"vb-002\", \"colonial\": \"wm-002\"},\n",
    "}"
   ]
  },
  {
   "cell_type": "code",
   "execution_count": 7,
   "id": "6082e5a4",
   "metadata": {},
   "outputs": [],
   "source": [
    "# Process bio_FINAL.csv\n",
    "for _, row in bio_df.iterrows():\n",
    "    person_id = row[\"id\"]\n",
    "    person_uri = ns[f\"person/{person_id}\"]\n",
    "    \n",
    "    # Add basic person data\n",
    "    g.add((person_uri, RDF.type, foaf.Person))\n",
    "    g.add((person_uri, foaf.name, Literal(row[\"nama orang\"])))\n",
    "    \n",
    "    # Link to external sources (if mapped)\n",
    "    if person_id in external_mapping:\n",
    "        mapping = external_mapping[person_id]\n",
    "        if \"wikidata\" in mapping:\n",
    "            wikidata_uri = wd[mapping[\"wikidata\"]]\n",
    "            g.add((person_uri, OWL.sameAs, wikidata_uri))\n",
    "        if \"intavia\" in mapping:\n",
    "            intavia_uri = URIRef(f\"{intavia}{mapping['intavia']}\")\n",
    "            g.add((person_uri, OWL.sameAs, intavia_uri))\n",
    "        if \"colonial\" in mapping:\n",
    "            colonial_uri = URIRef(f\"{colonial}{mapping['colonial']}\")\n",
    "            g.add((person_uri, OWL.sameAs, colonial_uri))\n"
   ]
  },
  {
   "cell_type": "code",
   "execution_count": 8,
   "id": "c27a97af",
   "metadata": {},
   "outputs": [],
   "source": [
    "# Process spouses_FINAL.csv\n",
    "for _, row in spouses_df.iterrows():\n",
    "    person_id = row[\"id\"]\n",
    "    spouse_uri = ns[f\"spouse/{person_id}_{row.name}\"]  # Unique URI per spouse entry\n",
    "    \n",
    "    # Create spouse entity\n",
    "    g.add((spouse_uri, RDF.type, foaf.Person))\n",
    "    g.add((spouse_uri, foaf.name, Literal(row[\"spouse_name\"])))\n",
    "    g.add((spouse_uri, ns.birthDate, Literal(row[\"birth_date\"])))\n",
    "    g.add((spouse_uri, ns.deathDate, Literal(row[\"death_date\"])))\n",
    "    \n",
    "    # Link to main person\n",
    "    person_uri = ns[f\"person/{person_id}\"]\n",
    "    g.add((person_uri, schema.spouse, spouse_uri))\n"
   ]
  },
  {
   "cell_type": "code",
   "execution_count": 9,
   "id": "2ec600f8",
   "metadata": {},
   "outputs": [],
   "source": [
    "# Process event_FINAL.csv\n",
    "for _, row in events_df.iterrows():\n",
    "    person_id = row[\"id\"]\n",
    "    event_uri = ns[f\"event/{person_id}_{row.name}\"]  # Unique URI per event\n",
    "    \n",
    "    # Create event entity\n",
    "    g.add((event_uri, RDF.type, prov.Activity))\n",
    "    g.add((event_uri, dcterms.description, Literal(row[\"werkgebied en -soort\"])))\n",
    "    g.add((event_uri, prov.startedAtTime, Literal(row[\"werkperiode\"])))\n",
    "    g.add((event_uri, dcterms.coverage, Literal(row[\"organ.\"])))\n",
    "    \n",
    "    # Link to main person\n",
    "    person_uri = ns[f\"person/{person_id}\"]\n",
    "    g.add((person_uri, prov.wasAssociatedWith, event_uri))"
   ]
  },
  {
   "cell_type": "code",
   "execution_count": 10,
   "id": "e630dc37",
   "metadata": {},
   "outputs": [
    {
     "data": {
      "text/plain": [
       "<Graph identifier=N7b1357f00ec34e73a52691fca5410657 (<class 'rdflib.graph.Graph'>)>"
      ]
     },
     "execution_count": 10,
     "metadata": {},
     "output_type": "execute_result"
    }
   ],
   "source": [
    "# Save the RDF Graph\n",
    "g.serialize(\"linked_data.ttl\", format=\"turtle\")"
   ]
  }
 ],
 "metadata": {
  "kernelspec": {
   "display_name": "my_env",
   "language": "python",
   "name": "python3"
  },
  "language_info": {
   "codemirror_mode": {
    "name": "ipython",
    "version": 3
   },
   "file_extension": ".py",
   "mimetype": "text/x-python",
   "name": "python",
   "nbconvert_exporter": "python",
   "pygments_lexer": "ipython3",
   "version": "3.9.21"
  }
 },
 "nbformat": 4,
 "nbformat_minor": 5
}
