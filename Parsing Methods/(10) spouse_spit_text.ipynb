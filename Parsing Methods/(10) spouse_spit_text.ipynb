{
 "cells": [
  {
   "cell_type": "code",
   "execution_count": 1,
   "id": "3821296e",
   "metadata": {},
   "outputs": [],
   "source": [
    "import pandas as pd\n",
    "import re\n"
   ]
  },
  {
   "cell_type": "code",
   "execution_count": 5,
   "id": "06c76342",
   "metadata": {},
   "outputs": [
    {
     "name": "stdout",
     "output_type": "stream",
     "text": [
      "Spouses Dataset Head:\n",
      "                                  spouse   id\n",
      "0            ~ 1935 Akke Reidinga † 1990  1.0\n",
      "1          ~ 1918 Regina Horstman † 1988  4.0\n",
      "2                        ~ Emma Reinmuth  5.0\n",
      "3         ~ 1888 J.M. de Buisonjé † 1940  7.0\n",
      "4  ~ 1894 Maria Lambertha Gunning † 1939  8.0\n"
     ]
    }
   ],
   "source": [
    "spouses_file = '/Volumes/Extreme SSD/Python_Projects/NIAA Project/FINAL/spouse_unsplit.csv'\n",
    "df_spouses = pd.read_csv(spouses_file)\n",
    "\n",
    "# Inspect the first few rows.\n",
    "print(\"Spouses Dataset Head:\")\n",
    "print(df_spouses.head())"
   ]
  },
  {
   "cell_type": "code",
   "execution_count": 6,
   "id": "489a940a",
   "metadata": {},
   "outputs": [
    {
     "name": "stdout",
     "output_type": "stream",
     "text": [
      "Original: ~ 1935 Akke Reidinga † 1990\n",
      "Parsed: ('Akke Reidinga', None, '1990', '1935')\n",
      "\n",
      "Original: ~ 1918 Regina Horstman † 1988\n",
      "Parsed: ('Regina Horstman', None, '1988', '1918')\n",
      "\n",
      "Original: ~ Emma Reinmuth\n",
      "Parsed: ('Emma Reinmuth', None, None, None)\n",
      "\n",
      "Original: ~ 1888 J.M. de Buisonjé † 1940\n",
      "Parsed: ('J.M. de Buisonjé', None, '1940', '1888')\n",
      "\n",
      "Original: ~ 1948 J.M. Schouten (1900-1992)\n",
      "Parsed: ('J.M. Schouten', '1900', '1992', '1948')\n",
      "\n",
      "Original: ~ (1) 1920 Joh. Maria van Leeuwen\n",
      "Parsed: ('Joh. Maria van Leeuwen', None, None, '1920')\n",
      "\n",
      "Original: ~ (2) Clem. Sophie Barkley\n",
      "Parsed: ('Clem. Sophie Barkley', None, None, None)\n",
      "\n",
      "Original: ~ (1) April 1835 Mary Maxwell † Des.1835\n",
      "Parsed: ('Mary Maxwell', 'April 1835', 'Des.1835', None)\n",
      "\n",
      "Original: ~ 1926 Gerritje Alida [sic] Scheurer (1896-1992)\n",
      "Parsed: ('Gerritje Alida [sic] Scheurer', '1896', '1992', '1926')\n",
      "\n",
      "Original: ~ 1936 W.C.A. Jansz (Pati, 1894-1962)\n",
      "Parsed: ('W.C.A. Jansz (Pati, 1894-1962)', None, None, '1936')\n",
      "\n",
      "Original: ~ (1) S. Fahrni † 9-2-1930\n",
      "Parsed: ('S. Fahrni', None, '9-2-1930', None)\n",
      "\n"
     ]
    }
   ],
   "source": [
    "\n",
    "def parse_spouse_info(text):\n",
    "    \"\"\"\n",
    "    Parse the input text from the \"spouse\" column and return a tuple:\n",
    "       (spouse_name, birth_date, death_date, year_married)\n",
    "    \"\"\"\n",
    "    # Ensure we are dealing with a string.\n",
    "    if not isinstance(text, str) or not text.strip():\n",
    "        return None, None, None, None\n",
    "\n",
    "    s = text.strip()\n",
    "\n",
    "    # Remove a leading tilde and any extra spaces.\n",
    "    if s.startswith(\"~\"):\n",
    "        s = s[1:].strip()\n",
    "\n",
    "    # Remove any leading ordering indicator like \"(1)\", \"(2)\", etc.\n",
    "    s = re.sub(r'^\\(\\s*\\d+\\s*\\)\\s*', '', s)\n",
    "\n",
    "    # Initialize our output values.\n",
    "    spouse_name = None\n",
    "    birth_date = None\n",
    "    death_date = None\n",
    "    year_married = None\n",
    "\n",
    "    # --- 1. Extract a parenthesized birth-death pattern, e.g. \"(1900-1992)\"\n",
    "    paren_match = re.search(r'\\(\\s*(\\d{3,4})\\s*[-–]\\s*(\\d{3,4})\\s*\\)', s)\n",
    "    if paren_match:\n",
    "        birth_date = paren_match.group(1)\n",
    "        death_date = paren_match.group(2)\n",
    "        # Remove the parenthesized portion from the text.\n",
    "        s = s.replace(paren_match.group(0), '').strip()\n",
    "\n",
    "    # --- 2. Look for a dagger symbol (†) if death_date still not set.\n",
    "    dagger_match = re.search(r'†\\s*([^()\\[\\]]+)', s)\n",
    "    if dagger_match and not death_date:\n",
    "        death_date_candidate = dagger_match.group(1).strip()\n",
    "        # Remove any trailing punctuation.\n",
    "        death_date = death_date_candidate.strip(\" ,;:\")\n",
    "        s = s.replace(dagger_match.group(0), '').strip()\n",
    "\n",
    "    # --- 3. Look for a leading year (year married)\n",
    "    # Optionally, the year may begin with a ± or other symbol.\n",
    "    ym_match = re.match(r'^([±]?\\d{3,4})\\b', s)\n",
    "    if ym_match:\n",
    "        year_married = ym_match.group(1)\n",
    "        s = s[ym_match.end():].strip()\n",
    "\n",
    "    # --- 4. If text starts with a month name and a year, treat that as a birth date (if not set)\n",
    "    # List of month names (case-insensitive).\n",
    "    month_pattern = r'^(January|February|March|April|May|June|July|August|September|October|November|December)\\s+\\d{4}'\n",
    "    month_match = re.match(month_pattern, s, flags=re.IGNORECASE)\n",
    "    if month_match and not birth_date:\n",
    "        birth_date = month_match.group(0).strip()\n",
    "        s = s[month_match.end():].strip()\n",
    "\n",
    "    # --- 5. The remainder is taken as the spouse name.\n",
    "    spouse_name = s.strip(\" ,:;\")\n",
    "\n",
    "    return spouse_name if spouse_name != \"\" else None, birth_date, death_date, year_married\n",
    "\n",
    "# (Optional) Test the helper function with a few sample strings.\n",
    "sample_values = [\n",
    "    \"~ 1935 Akke Reidinga † 1990\",\n",
    "    \"~ 1918 Regina Horstman † 1988\",\n",
    "    \"~ Emma Reinmuth\",\n",
    "    \"~ 1888 J.M. de Buisonjé † 1940\",\n",
    "    \"~ 1948 J.M. Schouten (1900-1992)\",\n",
    "    \"~ (1) 1920 Joh. Maria van Leeuwen\",\n",
    "    \"~ (2) Clem. Sophie Barkley\",\n",
    "    \"~ (1) April 1835 Mary Maxwell † Des.1835\",\n",
    "    \"~ 1926 Gerritje Alida [sic] Scheurer (1896-1992)\",\n",
    "    \"~ 1936 W.C.A. Jansz (Pati, 1894-1962)\",\n",
    "    \"~ (1) S. Fahrni † 9-2-1930\"\n",
    "]\n",
    "\n",
    "for val in sample_values:\n",
    "    parsed = parse_spouse_info(val)\n",
    "    print(f\"Original: {val}\\nParsed: {parsed}\\n\")"
   ]
  },
  {
   "cell_type": "code",
   "execution_count": 7,
   "id": "cf5ed4e2",
   "metadata": {},
   "outputs": [
    {
     "name": "stdout",
     "output_type": "stream",
     "text": [
      "Updated Spouses Dataset Head:\n",
      "                                              spouse    id  \\\n",
      "0                        ~ 1935 Akke Reidinga † 1990   1.0   \n",
      "1                      ~ 1918 Regina Horstman † 1988   4.0   \n",
      "2                                    ~ Emma Reinmuth   5.0   \n",
      "3                     ~ 1888 J.M. de Buisonjé † 1940   7.0   \n",
      "4              ~ 1894 Maria Lambertha Gunning † 1939   8.0   \n",
      "5                           ~ M.E. Hufschmied † 1982   9.0   \n",
      "6                         ~ 1920 H.C. Dijkman † 1945  10.0   \n",
      "7                                           ~ [n.a.]  11.0   \n",
      "8                        ~ ± 1933 A. Ristjouw † 1990  13.0   \n",
      "9                     ~ 1864 Chr.C. vd Linden † 1907  14.0   \n",
      "10                      ~1907 M.M. Ver­hoe­ven †1961  16.0   \n",
      "11                       ~ 1893 Jetske Ringma † 1948  18.0   \n",
      "12                 ~ (1) 1920 Joh. Maria van Leeuwen  19.0   \n",
      "13                        ~ (2) Clem. Sophie Barkley  19.0   \n",
      "14                  ~ 1948 J.M. Schouten (1900-1992)  20.0   \n",
      "15  ~ 1926 Gerritje Alida [sic] Scheurer (1896-1992)  21.0   \n",
      "16                            ~ 1934 L. Oelschlaeger  23.0   \n",
      "17                      ~ 1890 Helena Schmidt † 1935  26.0   \n",
      "18                 ~ (1) 1908 Bertha Bechmann † 1931  28.0   \n",
      "19                     ~ (2) 1935 Regina Lenz † 1980  28.0   \n",
      "\n",
      "                      spouse_name birth_date death_date year_married  \n",
      "0                   Akke Reidinga       None       1990         1935  \n",
      "1                 Regina Horstman       None       1988         1918  \n",
      "2                   Emma Reinmuth       None       None         None  \n",
      "3                J.M. de Buisonjé       None       1940         1888  \n",
      "4         Maria Lambertha Gunning       None       1939         1894  \n",
      "5                 M.E. Hufschmied       None       1982         None  \n",
      "6                    H.C. Dijkman       None       1945         1920  \n",
      "7                          [n.a.]       None       None         None  \n",
      "8              ± 1933 A. Ristjouw       None       1990         None  \n",
      "9                Chr.C. vd Linden       None       1907         1864  \n",
      "10               M.M. Ver­hoe­ven       None       1961         1907  \n",
      "11                  Jetske Ringma       None       1948         1893  \n",
      "12         Joh. Maria van Leeuwen       None       None         1920  \n",
      "13           Clem. Sophie Barkley       None       None         None  \n",
      "14                  J.M. Schouten       1900       1992         1948  \n",
      "15  Gerritje Alida [sic] Scheurer       1896       1992         1926  \n",
      "16                L. Oelschlaeger       None       None         1934  \n",
      "17                 Helena Schmidt       None       1935         1890  \n",
      "18                Bertha Bechmann       None       1931         1908  \n",
      "19                    Regina Lenz       None       1980         1935  \n"
     ]
    }
   ],
   "source": [
    "\n",
    "df_spouses[['spouse_name', 'birth_date', 'death_date', 'year_married']] = df_spouses['spouse'].apply(\n",
    "    lambda x: pd.Series(parse_spouse_info(x))\n",
    ")\n",
    "\n",
    "# Show the first several rows to verify the extraction.\n",
    "print(\"Updated Spouses Dataset Head:\")\n",
    "print(df_spouses.head(20))"
   ]
  },
  {
   "cell_type": "code",
   "execution_count": 8,
   "id": "de621f3d",
   "metadata": {},
   "outputs": [
    {
     "name": "stdout",
     "output_type": "stream",
     "text": [
      "Updated spouses dataset saved as '/Volumes/Extreme SSD/Python_Projects/NIAA Project/FINAL/spouses_FINAL.csv'.\n"
     ]
    }
   ],
   "source": [
    "output_spouses_file = '/Volumes/Extreme SSD/Python_Projects/NIAA Project/FINAL/spouses_FINAL.csv'\n",
    "df_spouses.to_csv(output_spouses_file, index=False)\n",
    "print(f\"Updated spouses dataset saved as '{output_spouses_file}'.\")"
   ]
  }
 ],
 "metadata": {
  "kernelspec": {
   "display_name": "my_env",
   "language": "python",
   "name": "python3"
  },
  "language_info": {
   "codemirror_mode": {
    "name": "ipython",
    "version": 3
   },
   "file_extension": ".py",
   "mimetype": "text/x-python",
   "name": "python",
   "nbconvert_exporter": "python",
   "pygments_lexer": "ipython3",
   "version": "3.9.21"
  }
 },
 "nbformat": 4,
 "nbformat_minor": 5
}
