{
 "cells": [
  {
   "cell_type": "markdown",
   "metadata": {},
   "source": [
    "## Import necessary libraries"
   ]
  },
  {
   "cell_type": "code",
   "execution_count": 1,
   "metadata": {},
   "outputs": [],
   "source": [
    "import pandas as pd\n",
    "import numpy as np\n",
    "import matplotlib.pyplot as plt\n",
    "import seaborn as sns\n",
    "import pandocfilters as pf\n",
    "import docx2txt"
   ]
  },
  {
   "cell_type": "markdown",
   "metadata": {},
   "source": [
    "## Read in the data\n",
    "\n",
    "```python"
   ]
  },
  {
   "cell_type": "code",
   "execution_count": 2,
   "metadata": {},
   "outputs": [],
   "source": [
    "\n",
    "df = pd.read_excel('/Volumes/Extreme SSD/Python_Projects/NIAA Project/maart_2023_ALLE_ZENDINGSARBEIDERS_NEDERLANDS_individuals.xlsx')\n"
   ]
  },
  {
   "cell_type": "code",
   "execution_count": 3,
   "metadata": {},
   "outputs": [
    {
     "data": {
      "text/html": [
       "<div>\n",
       "<style scoped>\n",
       "    .dataframe tbody tr th:only-of-type {\n",
       "        vertical-align: middle;\n",
       "    }\n",
       "\n",
       "    .dataframe tbody tr th {\n",
       "        vertical-align: top;\n",
       "    }\n",
       "\n",
       "    .dataframe thead th {\n",
       "        text-align: right;\n",
       "    }\n",
       "</style>\n",
       "<table border=\"1\" class=\"dataframe\">\n",
       "  <thead>\n",
       "    <tr style=\"text-align: right;\">\n",
       "      <th></th>\n",
       "      <th>nama orang</th>\n",
       "      <th>geb/overl.</th>\n",
       "      <th>organ.</th>\n",
       "      <th>werkgebied en -soort</th>\n",
       "      <th>werkperiode</th>\n",
       "      <th>bijzonderheden</th>\n",
       "      <th>Unnamed: 6</th>\n",
       "    </tr>\n",
       "  </thead>\n",
       "  <tbody>\n",
       "    <tr>\n",
       "      <th>0</th>\n",
       "      <td>A</td>\n",
       "      <td>NaN</td>\n",
       "      <td>NaN</td>\n",
       "      <td>NaN</td>\n",
       "      <td>NaN</td>\n",
       "      <td>NaN</td>\n",
       "      <td>NaN</td>\n",
       "    </tr>\n",
       "    <tr>\n",
       "      <th>1</th>\n",
       "      <td>Aa, zr. W. van der (N)</td>\n",
       "      <td>1908-1942/5</td>\n",
       "      <td>GZB</td>\n",
       "      <td>Rantepao (Sulsel), verpleegster</td>\n",
       "      <td>1932-1933</td>\n",
       "      <td>~ 1933 F.R.O. Steller, contr. BB, z.v. hp E.T....</td>\n",
       "      <td>NaN</td>\n",
       "    </tr>\n",
       "    <tr>\n",
       "      <th>2</th>\n",
       "      <td>NaN</td>\n",
       "      <td>NaN</td>\n",
       "      <td>NaN</td>\n",
       "      <td>† in Japanse internering?</td>\n",
       "      <td>NaN</td>\n",
       "      <td>NaN</td>\n",
       "      <td>NaN</td>\n",
       "    </tr>\n",
       "    <tr>\n",
       "      <th>3</th>\n",
       "      <td>Aalbers, dr. Joh. Godefr., arts (N)</td>\n",
       "      <td>1910-1992</td>\n",
       "      <td>NZG</td>\n",
       "      <td>Deli</td>\n",
       "      <td>1937-1946</td>\n",
       "      <td>1942-45 Japanse internering</td>\n",
       "      <td>NaN</td>\n",
       "    </tr>\n",
       "    <tr>\n",
       "      <th>4</th>\n",
       "      <td>~ 1935 Akke Reidinga † 1990</td>\n",
       "      <td>NaN</td>\n",
       "      <td>NaN</td>\n",
       "      <td>NaN</td>\n",
       "      <td>NaN</td>\n",
       "      <td>NaN</td>\n",
       "      <td>NaN</td>\n",
       "    </tr>\n",
       "  </tbody>\n",
       "</table>\n",
       "</div>"
      ],
      "text/plain": [
       "                            nama orang   geb/overl. organ.  \\\n",
       "0                                    A          NaN    NaN   \n",
       "1              Aa, zr. W. van der (N)   1908-1942/5    GZB   \n",
       "2                                  NaN          NaN    NaN   \n",
       "3  Aalbers, dr. Joh. Godefr., arts (N)    1910-1992    NZG   \n",
       "4          ~ 1935 Akke Reidinga † 1990          NaN    NaN   \n",
       "\n",
       "              werkgebied en -soort werkperiode  \\\n",
       "0                              NaN         NaN   \n",
       "1  Rantepao (Sulsel), verpleegster   1932-1933   \n",
       "2        † in Japanse internering?         NaN   \n",
       "3                             Deli   1937-1946   \n",
       "4                              NaN         NaN   \n",
       "\n",
       "                                      bijzonderheden Unnamed: 6  \n",
       "0                                                NaN        NaN  \n",
       "1  ~ 1933 F.R.O. Steller, contr. BB, z.v. hp E.T....        NaN  \n",
       "2                                                NaN        NaN  \n",
       "3                        1942-45 Japanse internering        NaN  \n",
       "4                                                NaN        NaN  "
      ]
     },
     "execution_count": 3,
     "metadata": {},
     "output_type": "execute_result"
    }
   ],
   "source": [
    "df.head()"
   ]
  },
  {
   "cell_type": "markdown",
   "metadata": {},
   "source": [
    "## Convert the data in the first column to a string datatype\n"
   ]
  },
  {
   "cell_type": "code",
   "execution_count": 4,
   "metadata": {},
   "outputs": [
    {
     "name": "stdout",
     "output_type": "stream",
     "text": [
      "3358\n"
     ]
    }
   ],
   "source": [
    "# count number of rows\n",
    "print(df.shape[0])\n",
    "\n",
    "# Make all values in the column 'nama orang' string\n",
    "df['nama orang'] = df['nama orang'].astype(str)"
   ]
  },
  {
   "cell_type": "markdown",
   "metadata": {},
   "source": [
    "## Remove single letter rows \n",
    "Remove rows that contain only one letter. These rows are not useful for the analysis."
   ]
  },
  {
   "cell_type": "code",
   "execution_count": 5,
   "metadata": {},
   "outputs": [],
   "source": [
    "pattern = r'^\\s*[A-Z]\\s*$'\n",
    "\n",
    "# Filter out rows that match the pattern\n",
    "df = df[~df['nama orang'].str.match(pattern)]"
   ]
  },
  {
   "cell_type": "code",
   "execution_count": 6,
   "metadata": {},
   "outputs": [
    {
     "name": "stdout",
     "output_type": "stream",
     "text": [
      "3334\n"
     ]
    }
   ],
   "source": [
    "print(df.shape[0])"
   ]
  },
  {
   "cell_type": "code",
   "execution_count": 7,
   "metadata": {},
   "outputs": [
    {
     "name": "stdout",
     "output_type": "stream",
     "text": [
      "1       23\n",
      "2        3\n",
      "3       35\n",
      "4       27\n",
      "5       23\n",
      "        ..\n",
      "3353    30\n",
      "3354    22\n",
      "3355    33\n",
      "3356     3\n",
      "3357     3\n",
      "Name: nama orang, Length: 3334, dtype: int64\n"
     ]
    }
   ],
   "source": [
    "# print all the values in the column 'nama orang' and their length\n",
    "print(df['nama orang'].str.len())\n"
   ]
  },
  {
   "cell_type": "code",
   "execution_count": 8,
   "metadata": {},
   "outputs": [
    {
     "data": {
      "text/html": [
       "<div>\n",
       "<style scoped>\n",
       "    .dataframe tbody tr th:only-of-type {\n",
       "        vertical-align: middle;\n",
       "    }\n",
       "\n",
       "    .dataframe tbody tr th {\n",
       "        vertical-align: top;\n",
       "    }\n",
       "\n",
       "    .dataframe thead th {\n",
       "        text-align: right;\n",
       "    }\n",
       "</style>\n",
       "<table border=\"1\" class=\"dataframe\">\n",
       "  <thead>\n",
       "    <tr style=\"text-align: right;\">\n",
       "      <th></th>\n",
       "      <th>nama orang</th>\n",
       "      <th>geb/overl.</th>\n",
       "      <th>organ.</th>\n",
       "      <th>werkgebied en -soort</th>\n",
       "      <th>werkperiode</th>\n",
       "      <th>bijzonderheden</th>\n",
       "      <th>Unnamed: 6</th>\n",
       "    </tr>\n",
       "  </thead>\n",
       "  <tbody>\n",
       "    <tr>\n",
       "      <th>1</th>\n",
       "      <td>Aa, zr. W. van der (N)</td>\n",
       "      <td>1908-1942/5</td>\n",
       "      <td>GZB</td>\n",
       "      <td>Rantepao (Sulsel), verpleegster</td>\n",
       "      <td>1932-1933</td>\n",
       "      <td>~ 1933 F.R.O. Steller, contr. BB, z.v. hp E.T....</td>\n",
       "      <td>NaN</td>\n",
       "    </tr>\n",
       "    <tr>\n",
       "      <th>2</th>\n",
       "      <td>nan</td>\n",
       "      <td>NaN</td>\n",
       "      <td>NaN</td>\n",
       "      <td>† in Japanse internering?</td>\n",
       "      <td>NaN</td>\n",
       "      <td>NaN</td>\n",
       "      <td>NaN</td>\n",
       "    </tr>\n",
       "    <tr>\n",
       "      <th>3</th>\n",
       "      <td>Aalbers, dr. Joh. Godefr., arts (N)</td>\n",
       "      <td>1910-1992</td>\n",
       "      <td>NZG</td>\n",
       "      <td>Deli</td>\n",
       "      <td>1937-1946</td>\n",
       "      <td>1942-45 Japanse internering</td>\n",
       "      <td>NaN</td>\n",
       "    </tr>\n",
       "    <tr>\n",
       "      <th>4</th>\n",
       "      <td>~ 1935 Akke Reidinga † 1990</td>\n",
       "      <td>NaN</td>\n",
       "      <td>NaN</td>\n",
       "      <td>NaN</td>\n",
       "      <td>NaN</td>\n",
       "      <td>NaN</td>\n",
       "      <td>NaN</td>\n",
       "    </tr>\n",
       "    <tr>\n",
       "      <th>5</th>\n",
       "      <td>Aalders, zr. Jacoba (N)</td>\n",
       "      <td>1910-1999</td>\n",
       "      <td>SZ</td>\n",
       "      <td>Bojonegoro, verpleegster in Zzh</td>\n",
       "      <td>1939-1942/6</td>\n",
       "      <td>&gt; dir. Centraal Zh in Hollan­dia (Dake 64) &gt; S...</td>\n",
       "      <td>NaN</td>\n",
       "    </tr>\n",
       "  </tbody>\n",
       "</table>\n",
       "</div>"
      ],
      "text/plain": [
       "                            nama orang   geb/overl. organ.  \\\n",
       "1              Aa, zr. W. van der (N)   1908-1942/5    GZB   \n",
       "2                                  nan          NaN    NaN   \n",
       "3  Aalbers, dr. Joh. Godefr., arts (N)    1910-1992    NZG   \n",
       "4          ~ 1935 Akke Reidinga † 1990          NaN    NaN   \n",
       "5              Aalders, zr. Jacoba (N)    1910-1999     SZ   \n",
       "\n",
       "              werkgebied en -soort  werkperiode  \\\n",
       "1  Rantepao (Sulsel), verpleegster    1932-1933   \n",
       "2        † in Japanse internering?          NaN   \n",
       "3                             Deli    1937-1946   \n",
       "4                              NaN          NaN   \n",
       "5  Bojonegoro, verpleegster in Zzh  1939-1942/6   \n",
       "\n",
       "                                      bijzonderheden Unnamed: 6  \n",
       "1  ~ 1933 F.R.O. Steller, contr. BB, z.v. hp E.T....        NaN  \n",
       "2                                                NaN        NaN  \n",
       "3                        1942-45 Japanse internering        NaN  \n",
       "4                                                NaN        NaN  \n",
       "5  > dir. Centraal Zh in Hollan­dia (Dake 64) > S...        NaN  "
      ]
     },
     "execution_count": 8,
     "metadata": {},
     "output_type": "execute_result"
    }
   ],
   "source": [
    "df.head()"
   ]
  },
  {
   "cell_type": "markdown",
   "metadata": {},
   "source": [
    "## Merging Rows That Start with `~` or Are `NaN`\n",
    "\n",
    "The following code snippet processes each row of the DataFrame and conditionally merges rows if the first column’s entry is either `NaN` or starts with `~`. This is useful when dealing with data in which certain rows need to be treated as a continuation of the previous row.\n",
    "\n"
   ]
  },
  {
   "cell_type": "code",
   "execution_count": 9,
   "metadata": {},
   "outputs": [],
   "source": [
    "new_rows = []\n",
    "\n",
    "# Keep track of the \"in-progress\" row\n",
    "current_row = []\n",
    "\n",
    "for i, row in df.iterrows():\n",
    "    # Grab the first column's value\n",
    "    first_val = row.iloc[0]\n",
    "    \n",
    "    # Define the condition under which we append this row\n",
    "    # to the existing row (i.e., double the length).\n",
    "    # Condition:\n",
    "    #   1) The first_val is actual NaN (pd.isna)\n",
    "    #   2) The string in first_val starts with '~'\n",
    "    #   3) The string in first_val starts with 'nan' or 'NaN'\n",
    "    \n",
    "    # Note: We check for string and then lower() it for a case-insensitive match\n",
    "    #       so that 'NaN', 'nan', 'NaN123', etc. are recognized.\n",
    "    \n",
    "    if (\n",
    "        pd.isna(first_val) or \n",
    "        (\n",
    "            isinstance(first_val, str) and \n",
    "            (\n",
    "                first_val.strip().startswith(\"~\") or \n",
    "                first_val.strip().lower().startswith(\"nan\")\n",
    "            )\n",
    "        )\n",
    "    ):\n",
    "        # Append this row's data to the existing row\n",
    "        current_row.extend(row.values)\n",
    "    else:\n",
    "        # If we already have a 'current_row' in progress, store it\n",
    "        if current_row:\n",
    "            new_rows.append(current_row)\n",
    "        # Start a fresh 'current_row' with the current row's data\n",
    "        current_row = list(row.values)\n",
    "\n",
    "# After the loop, don't forget to add the last accumulated row if it exists\n",
    "if current_row:\n",
    "    new_rows.append(current_row)\n",
    "\n",
    "# Now 'new_rows' is a list of lists, each of potentially different length.\n",
    "\n",
    "# Pad each combined row to the same length so we can create a new DataFrame\n",
    "max_len = max(len(r) for r in new_rows)\n",
    "padded_rows = [r + [None]*(max_len - len(r)) for r in new_rows]\n",
    "\n",
    "# Create a new DataFrame from the padded rows\n",
    "df_combined = pd.DataFrame(padded_rows)\n"
   ]
  },
  {
   "cell_type": "code",
   "execution_count": 11,
   "metadata": {},
   "outputs": [],
   "source": [
    "# write the new dataframe to a new excel file\n",
    "df_combined.to_excel('ALLE_ZENDINGSARBEIDERS_CLEANED_data_FINAL.xlsx', index=True)"
   ]
  }
 ],
 "metadata": {
  "kernelspec": {
   "display_name": "base",
   "language": "python",
   "name": "python3"
  },
  "language_info": {
   "codemirror_mode": {
    "name": "ipython",
    "version": 3
   },
   "file_extension": ".py",
   "mimetype": "text/x-python",
   "name": "python",
   "nbconvert_exporter": "python",
   "pygments_lexer": "ipython3",
   "version": "3.11.7"
  }
 },
 "nbformat": 4,
 "nbformat_minor": 2
}
