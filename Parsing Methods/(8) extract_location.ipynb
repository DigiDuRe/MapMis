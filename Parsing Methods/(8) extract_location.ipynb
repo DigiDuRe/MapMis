{
 "cells": [
  {
   "cell_type": "code",
   "execution_count": 6,
   "id": "e5f3813b",
   "metadata": {},
   "outputs": [],
   "source": [
    "import pandas as pd\n",
    "import numpy as np\n",
    "import re"
   ]
  },
  {
   "cell_type": "code",
   "execution_count": 16,
   "id": "5d6be141",
   "metadata": {},
   "outputs": [],
   "source": [
    "\n",
    "bio_file = '/Volumes/Extreme SSD/Python_Projects/NIAA Project/FINAL/bio_data_cleaned.csv'\n",
    "locations_file = '/Volumes/Extreme SSD/Python_Projects/NIAA Project/Extract Locations&Dates/locations.csv'\n",
    "\n",
    "\n",
    "# Load the main dataset.\n",
    "df = pd.read_csv(bio_file)\n",
    "\n",
    "# Load the locations dataset.\n",
    "loc_df = pd.read_csv(locations_file, skipinitialspace=True)\n"
   ]
  },
  {
   "cell_type": "code",
   "execution_count": 17,
   "id": "b5095b2d",
   "metadata": {},
   "outputs": [],
   "source": [
    "def extract_location(text):\n",
    "    \"\"\"\n",
    "    Given a text string from \"nama orang\", check if any abbreviation (from loc_df['abr'])\n",
    "    is present. If found, remove the abbreviation (case-insensitive) and return a tuple:\n",
    "         (cleaned_text, corresponding location)\n",
    "    If no match is found, return (original_text, None).\n",
    "    \"\"\"\n",
    "    if not isinstance(text, str):\n",
    "        return text, None\n",
    "\n",
    "    cleaned_text = text  # working copy of the text\n",
    "    origin = None        # default if no abbreviation is found\n",
    "\n",
    "    for _, loc_row in loc_df.iterrows():\n",
    "        abr = str(loc_row['abr'])\n",
    "        location_val = loc_row['location']\n",
    "        # Use a regex without strict word boundaries; match the abbreviation anywhere (case-insensitive)\n",
    "        pattern = re.escape(abr)\n",
    "        if re.search(pattern, cleaned_text, flags=re.IGNORECASE):\n",
    "            # Remove the abbreviation from the text.\n",
    "            cleaned_text = re.sub(pattern, \"\", cleaned_text, flags=re.IGNORECASE).strip()\n",
    "            origin = location_val\n",
    "            # We assume only one abbreviation per text.\n",
    "            break\n",
    "    return cleaned_text, origin"
   ]
  },
  {
   "cell_type": "code",
   "execution_count": 18,
   "id": "dd1726c7",
   "metadata": {},
   "outputs": [
    {
     "name": "stdout",
     "output_type": "stream",
     "text": [
      "Updated Main Dataset Head:\n",
      "                        nama orang   geb/overl.  id  actual id  Unnamed: 4  \\\n",
      "0               Aa, zr. W. van der  1908-1942/5   0        NaN         NaN   \n",
      "1  Aalbers, dr. Joh. Godefr., arts    1910-1992   1        NaN         NaN   \n",
      "2              Aalders, zr. Jacoba    1910-1999   2        NaN         NaN   \n",
      "3                     Abeel, David    1804-1846   3        NaN         NaN   \n",
      "4          Abkoude, ds. F.N.M. van    1895-1988   4        NaN         NaN   \n",
      "\n",
      "                     origin  \n",
      "0               Netherlands  \n",
      "1               Netherlands  \n",
      "2               Netherlands  \n",
      "3  United States of America  \n",
      "4               Netherlands  \n"
     ]
    }
   ],
   "source": [
    "df[['nama orang', 'origin']] = df.apply(\n",
    "    lambda row: pd.Series(extract_location(row['nama orang'])),\n",
    "    axis=1\n",
    ")\n",
    "\n",
    "# Check the first few rows to verify that the \"nama orang\" has been cleaned\n",
    "# and that the \"origin\" column has been populated.\n",
    "print(\"Updated Main Dataset Head:\")\n",
    "print(df.head())"
   ]
  },
  {
   "cell_type": "code",
   "execution_count": 19,
   "id": "ab63c40c",
   "metadata": {},
   "outputs": [
    {
     "name": "stdout",
     "output_type": "stream",
     "text": [
      "Updated dataset saved as '/Volumes/Extreme SSD/Python_Projects/NIAA Project/FINAL/bio_data_with_origin.csv'.\n"
     ]
    }
   ],
   "source": [
    "output_file = '/Volumes/Extreme SSD/Python_Projects/NIAA Project/FINAL/bio_data_with_origin.csv'\n",
    "df.to_csv(output_file, index=False)\n",
    "print(f\"Updated dataset saved as '{output_file}'.\")"
   ]
  },
  {
   "cell_type": "code",
   "execution_count": 20,
   "id": "254dc0eb",
   "metadata": {},
   "outputs": [],
   "source": [
    "dates = df[\"geb/overl.\"]"
   ]
  },
  {
   "cell_type": "code",
   "execution_count": 22,
   "id": "d392e30b",
   "metadata": {},
   "outputs": [],
   "source": [
    "dates.to_csv(\"dates.csv\", index=False)"
   ]
  }
 ],
 "metadata": {
  "kernelspec": {
   "display_name": "my_env",
   "language": "python",
   "name": "python3"
  },
  "language_info": {
   "codemirror_mode": {
    "name": "ipython",
    "version": 3
   },
   "file_extension": ".py",
   "mimetype": "text/x-python",
   "name": "python",
   "nbconvert_exporter": "python",
   "pygments_lexer": "ipython3",
   "version": "3.9.21"
  }
 },
 "nbformat": 4,
 "nbformat_minor": 5
}
