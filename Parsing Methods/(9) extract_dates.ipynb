{
 "cells": [
  {
   "cell_type": "code",
   "execution_count": 1,
   "id": "7d0eefd2",
   "metadata": {},
   "outputs": [],
   "source": [
    "import pandas as pd\n",
    "import numpy as np\n",
    "import re"
   ]
  },
  {
   "cell_type": "code",
   "execution_count": 2,
   "id": "36888e86",
   "metadata": {},
   "outputs": [
    {
     "name": "stdout",
     "output_type": "stream",
     "text": [
      "Original Dataset Head:\n",
      "                        nama orang   geb/overl.  id  actual id  Unnamed: 4  \\\n",
      "0               Aa, zr. W. van der  1908-1942/5   0        NaN         NaN   \n",
      "1  Aalbers, dr. Joh. Godefr., arts    1910-1992   1        NaN         NaN   \n",
      "2              Aalders, zr. Jacoba    1910-1999   2        NaN         NaN   \n",
      "3                     Abeel, David    1804-1846   3        NaN         NaN   \n",
      "4          Abkoude, ds. F.N.M. van    1895-1988   4        NaN         NaN   \n",
      "\n",
      "                     origin  \n",
      "0               Netherlands  \n",
      "1               Netherlands  \n",
      "2               Netherlands  \n",
      "3  United States of America  \n",
      "4               Netherlands  \n"
     ]
    }
   ],
   "source": [
    "input_file = '/Volumes/Extreme SSD/Python_Projects/NIAA Project/FINAL/bio_data_with_origin.csv'\n",
    "df = pd.read_csv(input_file)\n",
    "\n",
    "# Optional: Inspect the first few rows.\n",
    "print(\"Original Dataset Head:\")\n",
    "print(df.head())"
   ]
  },
  {
   "cell_type": "code",
   "execution_count": 3,
   "id": "a6e8a388",
   "metadata": {},
   "outputs": [],
   "source": [
    "def parse_geb_overl(text):\n",
    "    \"\"\"\n",
    "    Parse a string from the \"geb/overl.\" column into birth and death year components.\n",
    "    \n",
    "    Parameters:\n",
    "      text (str): A string that may contain birth and/or death year information, for example:\n",
    "         \"1908-1942/5\", \"1910-1992\", \"1896-\", \"-1942/45\", \"1848/9\", \"1829/30-'84\"\n",
    "    \n",
    "    Returns:\n",
    "      tuple: (birthYear, deathYear) where each is a string or None if not present.\n",
    "    \"\"\"\n",
    "    if not isinstance(text, str) or text.strip() == \"\":\n",
    "        return None, None\n",
    "\n",
    "    # Clean up the text: remove excessive whitespace.\n",
    "    cleaned = text.strip()\n",
    "    \n",
    "    # If a dash is present, split on the first occurrence.\n",
    "    if '-' in cleaned:\n",
    "        # Split on the first dash only.\n",
    "        parts = cleaned.split('-', 1)\n",
    "        birth = parts[0].strip() if parts[0].strip() != \"\" else None\n",
    "        death = parts[1].strip() if parts[1].strip() != \"\" else None\n",
    "    else:\n",
    "        # If there is no dash, assume the entire field is the birth year.\n",
    "        birth = cleaned\n",
    "        death = None\n",
    "\n",
    "    return birth, death"
   ]
  },
  {
   "cell_type": "code",
   "execution_count": 4,
   "id": "71d9c916",
   "metadata": {},
   "outputs": [
    {
     "name": "stdout",
     "output_type": "stream",
     "text": [
      "Updated Dataset Head:\n",
      "    geb/overl. birthYear deathYear\n",
      "0  1908-1942/5      1908    1942/5\n",
      "1    1910-1992      1910      1992\n",
      "2    1910-1999      1910      1999\n",
      "3    1804-1846      1804      1846\n",
      "4    1895-1988      1895      1988\n"
     ]
    }
   ],
   "source": [
    "df[['birthYear', 'deathYear']] = df['geb/overl.'].apply(lambda x: pd.Series(parse_geb_overl(x)))\n",
    "\n",
    "# Show a few rows of the updated dataframe.\n",
    "print(\"Updated Dataset Head:\")\n",
    "print(df[['geb/overl.', 'birthYear', 'deathYear']].head())"
   ]
  },
  {
   "cell_type": "code",
   "execution_count": 5,
   "id": "763f8db3",
   "metadata": {},
   "outputs": [
    {
     "name": "stdout",
     "output_type": "stream",
     "text": [
      "Updated dataset saved as 'bio_data_with_origin_dates.csv'.\n"
     ]
    }
   ],
   "source": [
    "output_file = 'bio_data_with_origin_dates.csv'\n",
    "df.to_csv(output_file, index=False)\n",
    "print(f\"Updated dataset saved as '{output_file}'.\")"
   ]
  }
 ],
 "metadata": {
  "kernelspec": {
   "display_name": "my_env",
   "language": "python",
   "name": "python3"
  },
  "language_info": {
   "codemirror_mode": {
    "name": "ipython",
    "version": 3
   },
   "file_extension": ".py",
   "mimetype": "text/x-python",
   "name": "python",
   "nbconvert_exporter": "python",
   "pygments_lexer": "ipython3",
   "version": "3.9.21"
  }
 },
 "nbformat": 4,
 "nbformat_minor": 5
}
