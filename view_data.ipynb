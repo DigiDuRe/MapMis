{
 "cells": [
  {
   "cell_type": "code",
   "execution_count": 2,
   "metadata": {},
   "outputs": [],
   "source": [
    "import pandas as pd\n",
    "import numpy as np\n",
    "import matplotlib.pyplot as plt"
   ]
  },
  {
   "cell_type": "code",
   "execution_count": 3,
   "metadata": {},
   "outputs": [],
   "source": [
    "bio = pd.read_csv('/Volumes/Extreme SSD/Python_Projects/NIAA Project/FINAL_PARSED_DATA/bio_data.csv')\n",
    "events = pd.read_csv('/Volumes/Extreme SSD/Python_Projects/NIAA Project/FINAL_PARSED_DATA/events_data.csv')"
   ]
  },
  {
   "cell_type": "code",
   "execution_count": 4,
   "metadata": {},
   "outputs": [
    {
     "data": {
      "text/html": [
       "<div>\n",
       "<style scoped>\n",
       "    .dataframe tbody tr th:only-of-type {\n",
       "        vertical-align: middle;\n",
       "    }\n",
       "\n",
       "    .dataframe tbody tr th {\n",
       "        vertical-align: top;\n",
       "    }\n",
       "\n",
       "    .dataframe thead th {\n",
       "        text-align: right;\n",
       "    }\n",
       "</style>\n",
       "<table border=\"1\" class=\"dataframe\">\n",
       "  <thead>\n",
       "    <tr style=\"text-align: right;\">\n",
       "      <th></th>\n",
       "      <th>nama orang</th>\n",
       "      <th>geb/overl.</th>\n",
       "      <th>id</th>\n",
       "    </tr>\n",
       "  </thead>\n",
       "  <tbody>\n",
       "    <tr>\n",
       "      <th>0</th>\n",
       "      <td>Aa, zr. W. van der (N)</td>\n",
       "      <td>1908-1942/5</td>\n",
       "      <td>0</td>\n",
       "    </tr>\n",
       "    <tr>\n",
       "      <th>1</th>\n",
       "      <td>Aalbers, dr. Joh. Godefr., arts (N)</td>\n",
       "      <td>1910-1992</td>\n",
       "      <td>1</td>\n",
       "    </tr>\n",
       "    <tr>\n",
       "      <th>2</th>\n",
       "      <td>Aalders, zr. Jacoba (N)</td>\n",
       "      <td>1910-1999</td>\n",
       "      <td>2</td>\n",
       "    </tr>\n",
       "    <tr>\n",
       "      <th>3</th>\n",
       "      <td>Abeel, David (VS)</td>\n",
       "      <td>1804-1846</td>\n",
       "      <td>3</td>\n",
       "    </tr>\n",
       "    <tr>\n",
       "      <th>4</th>\n",
       "      <td>Abkoude, ds. F.N.M. van (N)</td>\n",
       "      <td>1895-1988</td>\n",
       "      <td>4</td>\n",
       "    </tr>\n",
       "  </tbody>\n",
       "</table>\n",
       "</div>"
      ],
      "text/plain": [
       "                            nama orang   geb/overl.  id\n",
       "0              Aa, zr. W. van der (N)   1908-1942/5   0\n",
       "1  Aalbers, dr. Joh. Godefr., arts (N)    1910-1992   1\n",
       "2              Aalders, zr. Jacoba (N)    1910-1999   2\n",
       "3                    Abeel, David (VS)    1804-1846   3\n",
       "4          Abkoude, ds. F.N.M. van (N)    1895-1988   4"
      ]
     },
     "execution_count": 4,
     "metadata": {},
     "output_type": "execute_result"
    }
   ],
   "source": [
    "bio.head()"
   ]
  },
  {
   "cell_type": "code",
   "execution_count": 5,
   "metadata": {},
   "outputs": [
    {
     "data": {
      "text/html": [
       "<div>\n",
       "<style scoped>\n",
       "    .dataframe tbody tr th:only-of-type {\n",
       "        vertical-align: middle;\n",
       "    }\n",
       "\n",
       "    .dataframe tbody tr th {\n",
       "        vertical-align: top;\n",
       "    }\n",
       "\n",
       "    .dataframe thead th {\n",
       "        text-align: right;\n",
       "    }\n",
       "</style>\n",
       "<table border=\"1\" class=\"dataframe\">\n",
       "  <thead>\n",
       "    <tr style=\"text-align: right;\">\n",
       "      <th></th>\n",
       "      <th>organ.</th>\n",
       "      <th>werkgebied en -soort</th>\n",
       "      <th>werkperiode</th>\n",
       "      <th>bijzonderheden</th>\n",
       "      <th>id</th>\n",
       "    </tr>\n",
       "  </thead>\n",
       "  <tbody>\n",
       "    <tr>\n",
       "      <th>0</th>\n",
       "      <td>GZB</td>\n",
       "      <td>Rantepao (Sulsel), verpleegster</td>\n",
       "      <td>1932-1933</td>\n",
       "      <td>~ 1933 F.R.O. Steller, contr. BB, z.v. hp E.T....</td>\n",
       "      <td>0</td>\n",
       "    </tr>\n",
       "    <tr>\n",
       "      <th>1</th>\n",
       "      <td>GZB</td>\n",
       "      <td>† in Japanse internering?</td>\n",
       "      <td>NaN</td>\n",
       "      <td>NaN</td>\n",
       "      <td>0</td>\n",
       "    </tr>\n",
       "    <tr>\n",
       "      <th>2</th>\n",
       "      <td>NZG</td>\n",
       "      <td>Deli</td>\n",
       "      <td>1937-1946</td>\n",
       "      <td>1942-45 Japanse internering</td>\n",
       "      <td>1</td>\n",
       "    </tr>\n",
       "    <tr>\n",
       "      <th>3</th>\n",
       "      <td>SZ</td>\n",
       "      <td>Bojonegoro, verpleegster in Zzh</td>\n",
       "      <td>1939-1942/6</td>\n",
       "      <td>&gt; dir. Centraal Zh in Hollan­dia (Dake 64) &gt; S...</td>\n",
       "      <td>2</td>\n",
       "    </tr>\n",
       "    <tr>\n",
       "      <th>4</th>\n",
       "      <td>ABCFM</td>\n",
       "      <td>Batavia, bij Medhurst</td>\n",
       "      <td>1831</td>\n",
       "      <td>NaN</td>\n",
       "      <td>3</td>\n",
       "    </tr>\n",
       "  </tbody>\n",
       "</table>\n",
       "</div>"
      ],
      "text/plain": [
       "  organ.             werkgebied en -soort  werkperiode  \\\n",
       "0    GZB  Rantepao (Sulsel), verpleegster    1932-1933   \n",
       "1    GZB        † in Japanse internering?          NaN   \n",
       "2    NZG                             Deli    1937-1946   \n",
       "3     SZ  Bojonegoro, verpleegster in Zzh  1939-1942/6   \n",
       "4  ABCFM            Batavia, bij Medhurst         1831   \n",
       "\n",
       "                                      bijzonderheden  id  \n",
       "0  ~ 1933 F.R.O. Steller, contr. BB, z.v. hp E.T....   0  \n",
       "1                                                NaN   0  \n",
       "2                        1942-45 Japanse internering   1  \n",
       "3  > dir. Centraal Zh in Hollan­dia (Dake 64) > S...   2  \n",
       "4                                                NaN   3  "
      ]
     },
     "execution_count": 5,
     "metadata": {},
     "output_type": "execute_result"
    }
   ],
   "source": [
    "events.head()   "
   ]
  },
  {
   "cell_type": "code",
   "execution_count": 6,
   "metadata": {},
   "outputs": [],
   "source": [
    "spouse = pd.read_csv(\"/Volumes/Extreme SSD/Python_Projects/NIAA Project/FINAL_PARSED_DATA/spouse_data.csv\")"
   ]
  },
  {
   "cell_type": "code",
   "execution_count": 7,
   "metadata": {},
   "outputs": [
    {
     "data": {
      "text/html": [
       "<div>\n",
       "<style scoped>\n",
       "    .dataframe tbody tr th:only-of-type {\n",
       "        vertical-align: middle;\n",
       "    }\n",
       "\n",
       "    .dataframe tbody tr th {\n",
       "        vertical-align: top;\n",
       "    }\n",
       "\n",
       "    .dataframe thead th {\n",
       "        text-align: right;\n",
       "    }\n",
       "</style>\n",
       "<table border=\"1\" class=\"dataframe\">\n",
       "  <thead>\n",
       "    <tr style=\"text-align: right;\">\n",
       "      <th></th>\n",
       "      <th>spouse</th>\n",
       "      <th>id</th>\n",
       "    </tr>\n",
       "  </thead>\n",
       "  <tbody>\n",
       "    <tr>\n",
       "      <th>0</th>\n",
       "      <td>~ 1935 Akke Reidinga † 1990</td>\n",
       "      <td>1</td>\n",
       "    </tr>\n",
       "    <tr>\n",
       "      <th>1</th>\n",
       "      <td>~ 1918 Regina Horstman † 1988</td>\n",
       "      <td>4</td>\n",
       "    </tr>\n",
       "    <tr>\n",
       "      <th>2</th>\n",
       "      <td>~ Emma Reinmuth</td>\n",
       "      <td>5</td>\n",
       "    </tr>\n",
       "    <tr>\n",
       "      <th>3</th>\n",
       "      <td>~ 1888 J.M. de Buisonjé † 1940</td>\n",
       "      <td>7</td>\n",
       "    </tr>\n",
       "    <tr>\n",
       "      <th>4</th>\n",
       "      <td>~ 1894 Maria Lambertha Gunning † 1939</td>\n",
       "      <td>8</td>\n",
       "    </tr>\n",
       "  </tbody>\n",
       "</table>\n",
       "</div>"
      ],
      "text/plain": [
       "                                  spouse  id\n",
       "0            ~ 1935 Akke Reidinga † 1990   1\n",
       "1          ~ 1918 Regina Horstman † 1988   4\n",
       "2                        ~ Emma Reinmuth   5\n",
       "3         ~ 1888 J.M. de Buisonjé † 1940   7\n",
       "4  ~ 1894 Maria Lambertha Gunning † 1939   8"
      ]
     },
     "execution_count": 7,
     "metadata": {},
     "output_type": "execute_result"
    }
   ],
   "source": [
    "spouse.head()   "
   ]
  }
 ],
 "metadata": {
  "kernelspec": {
   "display_name": "base",
   "language": "python",
   "name": "python3"
  },
  "language_info": {
   "codemirror_mode": {
    "name": "ipython",
    "version": 3
   },
   "file_extension": ".py",
   "mimetype": "text/x-python",
   "name": "python",
   "nbconvert_exporter": "python",
   "pygments_lexer": "ipython3",
   "version": "3.11.7"
  }
 },
 "nbformat": 4,
 "nbformat_minor": 2
}
