{
 "cells": [
  {
   "cell_type": "markdown",
   "id": "5a0fcda4",
   "metadata": {},
   "source": [
    "This notebook contains additional dataparsing steps that are taken after all the processing done by glp500 and JJ.\n",
    "\n",
    "As input we use the excl sheets: \n",
    "- Events.xlsx\n",
    "\n",
    "[note that these should be put in the folder of parsing_data_june_2025, but are currently in .gitignore]"
   ]
  },
  {
   "cell_type": "code",
   "execution_count": null,
   "id": "e08a77e3",
   "metadata": {},
   "outputs": [],
   "source": [
    "import pandas as pd\n",
    "import re\n",
    "from datetime import datetime\n",
    "import numpy as np"
   ]
  },
  {
   "cell_type": "code",
   "execution_count": null,
   "id": "87d35f1d",
   "metadata": {},
   "outputs": [],
   "source": [
    "events = pd.read_excel('./input/Events.xlsx')"
   ]
  },
  {
   "cell_type": "code",
   "execution_count": null,
   "id": "eeb969ba",
   "metadata": {},
   "outputs": [],
   "source": [
    "events.head()"
   ]
  },
  {
   "cell_type": "code",
   "execution_count": null,
   "id": "df57ab91",
   "metadata": {},
   "outputs": [],
   "source": [
    "# Panda settings for showing data (this is foremost done to more easily explore the data while processing it)\n",
    "pd.set_option('display.max_columns', None)\n",
    "pd.set_option('display.max_rows', None)\n",
    "pd.set_option('display.max_colwidth', None)"
   ]
  },
  {
   "cell_type": "code",
   "execution_count": null,
   "id": "bfd055ad",
   "metadata": {},
   "outputs": [],
   "source": [
    "# to keep track on the changes we copy the fields that we modify the most\n",
    "events['werkgebied en -soort_org'] = events['werkgebied en -soort']\n",
    "events['bijzonderheden_org'] = events['bijzonderheden']"
   ]
  },
  {
   "cell_type": "code",
   "execution_count": null,
   "id": "7ffd0ad6",
   "metadata": {},
   "outputs": [],
   "source": [
    "# Besides a year of death we found quite often in the dataset that information about the death was found in 'bijzonderheden' or 'werkgebied en -soort'. Therefore we parse it to a new field and remove it form the original field.\n",
    "# So that other information will remain specifically about 'bijzonderheden' and 'werkgebied en -soort' \n",
    "\n",
    "# extract info about death\n",
    "info_sterven1 = events['werkgebied en -soort'].str.extract(r'(†.*)') \n",
    "info_sterven2 = events['bijzonderheden'].str.extract(r'(†.*)')\n",
    "\n",
    "# extract info about death to a new field\n",
    "events['informatie_sterven'] = info_sterven1.combine_first(info_sterven2)\n",
    "\n",
    "# delete info death from original fields \n",
    "events['werkgebied en -soort'] = events['werkgebied en -soort'].str.replace(r'†.*', '', regex=True).str.strip()\n",
    "events['bijzonderheden'] = events['bijzonderheden'].str.replace(r'†.*', '', regex=True).str.strip()"
   ]
  },
  {
   "cell_type": "code",
   "execution_count": null,
   "id": "3fa2042b",
   "metadata": {},
   "outputs": [],
   "source": [
    "# we find quite some information about follow-up roles. We store these into a new field \"vervolgrol(len)\"\n",
    "rollen1 = events['bijzonderheden'].str.extract(r'(>.*)')\n",
    "rollen2 = events['werkgebied en -soort'].str.extract(r'(>.*)')\n",
    "\n",
    "events['vervolgrol(len)'] = rollen1.combine_first(rollen2)\n",
    "\n",
    "# delete info death from original fields \n",
    "events['werkgebied en -soort'] = events['werkgebied en -soort'].str.replace(r'>.*', '', regex=True).str.strip()\n",
    "events['bijzonderheden'] = events['bijzonderheden'].str.replace(r'>.*', '', regex=True).str.strip()"
   ]
  },
  {
   "cell_type": "code",
   "execution_count": null,
   "id": "49edf318",
   "metadata": {},
   "outputs": [],
   "source": [
    "events['info_spouse'] = events['bijzonderheden'].str.extract(r'(~.*)')\n",
    "events['bijzonderheden'] = events['bijzonderheden'].str.replace(r'~.*', '', regex=True).str.strip()"
   ]
  },
  {
   "cell_type": "code",
   "execution_count": null,
   "id": "0d712d7d",
   "metadata": {},
   "outputs": [],
   "source": [
    "split_periods = events['werkperiode'].str.extract(r'(?P<periode_start>[^-\\s]*)\\s*-\\s*(?P<periode_einde>.+)')\n",
    "\n",
    "# Replace empty strings with NaN\n",
    "split_periods = split_periods.replace('', np.nan)\n",
    "events = pd.concat([events, split_periods], axis=1)"
   ]
  },
  {
   "cell_type": "code",
   "execution_count": null,
   "id": "1b00f71e",
   "metadata": {},
   "outputs": [],
   "source": [
    "\n",
    "# Add missing single-year values into periode_start\n",
    "# Only if original row had no dash and no extracted periode_start\n",
    "no_dash = ~events['werkperiode'].astype(str).str.contains('-')\n",
    "only_year = events['werkperiode'].astype(str).str.fullmatch(r'\\d{3,4}')\n",
    "missing_start = split_periods['periode_start'].isna()\n",
    "\n",
    "# Set periode_start where applicable\n",
    "split_periods.loc[no_dash & only_year & missing_start, 'periode_start'] = events.loc[no_dash & only_year & missing_start, 'werkperiode']\n",
    "\n",
    "events = events.drop(columns=['periode_start', 'periode_einde'], errors='ignore')\n",
    "\n",
    "# Combine with original dataframe\n",
    "events = pd.concat([events, split_periods], axis=1)"
   ]
  },
  {
   "cell_type": "code",
   "execution_count": null,
   "id": "c0cb8d68",
   "metadata": {},
   "outputs": [],
   "source": [
    "# Extract the first 4-digit number from 'periode_start'\n",
    "events['periode_start_int'] = events['periode_start'].astype(str).str.extract(r'(\\d{4})')\n",
    "\n",
    "# Convert to integer (optional, depending on if you want NaN or errors on failure)\n",
    "events['periode_start_int'] = events['periode_start_int'].astype(float).astype('Int64')\n",
    "\n",
    "\n",
    "# Extract the first 4-digit number from 'periode_einde'\n",
    "events['periode_einde_int'] = events['periode_einde'].astype(str).str.extract(r'(\\d{4})')\n",
    "\n",
    "# Convert to integer (optional, depending on if you want NaN or errors on failure)\n",
    "events['periode_einde_int'] = events['periode_einde_int'].astype(float).astype('Int64')\n"
   ]
  },
  {
   "cell_type": "code",
   "execution_count": null,
   "id": "b38ccbed",
   "metadata": {},
   "outputs": [],
   "source": [
    "events.head()"
   ]
  },
  {
   "cell_type": "code",
   "execution_count": null,
   "id": "2f3442f7",
   "metadata": {},
   "outputs": [],
   "source": [
    "events.columns.tolist()"
   ]
  },
  {
   "cell_type": "code",
   "execution_count": null,
   "id": "1d89a37f",
   "metadata": {},
   "outputs": [],
   "source": [
    "# change the order of the columns drop, \"spouse_info\" and add empty event field.\n",
    "\n",
    "events['event'] = np.nan\n",
    "events['bio_info'] = np.nan\n",
    "\n",
    "events = events[[\n",
    "    'id', \n",
    "    'werkgebied en -soort_org',\n",
    "    'bijzonderheden_org',\n",
    "    'organ.',\n",
    "    'werkgebied en -soort',\n",
    "    'werkperiode',\n",
    "    'periode_start',\n",
    "    'periode_einde',\n",
    "    'periode_start_int',\n",
    "    'periode_einde_int',\n",
    "    'bijzonderheden',\n",
    "    'event',\n",
    "    'bron', \n",
    "    'informatie_sterven',\n",
    "    'vervolgrol(len)',\n",
    "    'info_spouse',\n",
    "    'info toegevoegd',\n",
    "    'welke info'\n",
    "]]"
   ]
  },
  {
   "cell_type": "code",
   "execution_count": null,
   "id": "4f3a81b4",
   "metadata": {},
   "outputs": [],
   "source": [
    "date_str = datetime.today().strftime('%m_%d_%Y')\n",
    "filename = \"output//\"+ f'events_{date_str}.xlsx'"
   ]
  },
  {
   "cell_type": "code",
   "execution_count": null,
   "id": "8b62e4e5",
   "metadata": {},
   "outputs": [],
   "source": [
    "events.to_excel(filename, index=False)"
   ]
  }
 ],
 "metadata": {
  "kernelspec": {
   "display_name": "digidure",
   "language": "python",
   "name": "python3"
  },
  "language_info": {
   "codemirror_mode": {
    "name": "ipython",
    "version": 3
   },
   "file_extension": ".py",
   "mimetype": "text/x-python",
   "name": "python",
   "nbconvert_exporter": "python",
   "pygments_lexer": "ipython3",
   "version": "3.11.3"
  }
 },
 "nbformat": 4,
 "nbformat_minor": 5
}
